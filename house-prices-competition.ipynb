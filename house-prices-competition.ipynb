{
 "cells": [
  {
   "cell_type": "code",
   "execution_count": 1,
   "id": "440a1a1e",
   "metadata": {
    "_cell_guid": "b1076dfc-b9ad-4769-8c92-a6c4dae69d19",
    "_uuid": "8f2839f25d086af736a60e9eeb907d3b93b6e0e5",
    "execution": {
     "iopub.execute_input": "2022-04-08T01:16:11.211279Z",
     "iopub.status.busy": "2022-04-08T01:16:11.206172Z",
     "iopub.status.idle": "2022-04-08T01:16:11.217434Z",
     "shell.execute_reply": "2022-04-08T01:16:11.218160Z",
     "shell.execute_reply.started": "2022-04-08T01:13:10.169848Z"
    },
    "papermill": {
     "duration": 0.060389,
     "end_time": "2022-04-08T01:16:11.218551",
     "exception": false,
     "start_time": "2022-04-08T01:16:11.158162",
     "status": "completed"
    },
    "tags": []
   },
   "outputs": [
    {
     "name": "stdout",
     "output_type": "stream",
     "text": [
      "/kaggle/input/house-prices-advanced-regression-techniques/sample_submission.csv\n",
      "/kaggle/input/house-prices-advanced-regression-techniques/data_description.txt\n",
      "/kaggle/input/house-prices-advanced-regression-techniques/train.csv\n",
      "/kaggle/input/house-prices-advanced-regression-techniques/test.csv\n"
     ]
    }
   ],
   "source": [
    "# This Python 3 environment comes with many helpful analytics libraries installed\n",
    "# It is defined by the kaggle/python Docker image: https://github.com/kaggle/docker-python\n",
    "# For example, here's several helpful packages to load\n",
    "\n",
    "import numpy as np # linear algebra\n",
    "import pandas as pd # data processing, CSV file I/O (e.g. pd.read_csv)\n",
    "\n",
    "# Input data files are available in the read-only \"../input/\" directory\n",
    "# For example, running this (by clicking run or pressing Shift+Enter) will list all files under the input directory\n",
    "\n",
    "import os\n",
    "for dirname, _, filenames in os.walk('/kaggle/input'):\n",
    "    for filename in filenames:\n",
    "        print(os.path.join(dirname, filename))\n",
    "\n",
    "# You can write up to 20GB to the current directory (/kaggle/working/) that gets preserved as output when you create a version using \"Save & Run All\" \n",
    "# You can also write temporary files to /kaggle/temp/, but they won't be saved outside of the current session"
   ]
  },
  {
   "cell_type": "code",
   "execution_count": 2,
   "id": "c2be8f61",
   "metadata": {
    "execution": {
     "iopub.execute_input": "2022-04-08T01:16:11.310022Z",
     "iopub.status.busy": "2022-04-08T01:16:11.309097Z",
     "iopub.status.idle": "2022-04-08T01:16:12.608059Z",
     "shell.execute_reply": "2022-04-08T01:16:12.607484Z",
     "shell.execute_reply.started": "2022-04-08T01:13:10.191265Z"
    },
    "papermill": {
     "duration": 1.345275,
     "end_time": "2022-04-08T01:16:12.608224",
     "exception": false,
     "start_time": "2022-04-08T01:16:11.262949",
     "status": "completed"
    },
    "tags": []
   },
   "outputs": [],
   "source": [
    "import numpy as np\n",
    "import pandas as pd \n",
    "import matplotlib.pyplot as plt \n",
    "import seaborn as sns\n",
    "from sklearn.model_selection import train_test_split\n",
    "from scipy import stats"
   ]
  },
  {
   "cell_type": "code",
   "execution_count": 3,
   "id": "3c155e47",
   "metadata": {
    "execution": {
     "iopub.execute_input": "2022-04-08T01:16:12.696696Z",
     "iopub.status.busy": "2022-04-08T01:16:12.696048Z",
     "iopub.status.idle": "2022-04-08T01:16:12.768909Z",
     "shell.execute_reply": "2022-04-08T01:16:12.769697Z",
     "shell.execute_reply.started": "2022-04-08T01:13:10.915388Z"
    },
    "papermill": {
     "duration": 0.119976,
     "end_time": "2022-04-08T01:16:12.769903",
     "exception": false,
     "start_time": "2022-04-08T01:16:12.649927",
     "status": "completed"
    },
    "tags": []
   },
   "outputs": [],
   "source": [
    "train = pd.read_csv('../input/house-prices-advanced-regression-techniques/train.csv' , index_col= 'Id')\n",
    "test = pd.read_csv('../input/house-prices-advanced-regression-techniques/test.csv', index_col= 'Id')"
   ]
  },
  {
   "cell_type": "code",
   "execution_count": 4,
   "id": "9016e6e9",
   "metadata": {
    "execution": {
     "iopub.execute_input": "2022-04-08T01:16:12.856607Z",
     "iopub.status.busy": "2022-04-08T01:16:12.855997Z",
     "iopub.status.idle": "2022-04-08T01:16:12.887745Z",
     "shell.execute_reply": "2022-04-08T01:16:12.888234Z",
     "shell.execute_reply.started": "2022-04-08T01:13:10.982994Z"
    },
    "papermill": {
     "duration": 0.076467,
     "end_time": "2022-04-08T01:16:12.888410",
     "exception": false,
     "start_time": "2022-04-08T01:16:12.811943",
     "status": "completed"
    },
    "tags": []
   },
   "outputs": [
    {
     "data": {
      "text/html": [
       "<div>\n",
       "<style scoped>\n",
       "    .dataframe tbody tr th:only-of-type {\n",
       "        vertical-align: middle;\n",
       "    }\n",
       "\n",
       "    .dataframe tbody tr th {\n",
       "        vertical-align: top;\n",
       "    }\n",
       "\n",
       "    .dataframe thead th {\n",
       "        text-align: right;\n",
       "    }\n",
       "</style>\n",
       "<table border=\"1\" class=\"dataframe\">\n",
       "  <thead>\n",
       "    <tr style=\"text-align: right;\">\n",
       "      <th></th>\n",
       "      <th>MSSubClass</th>\n",
       "      <th>MSZoning</th>\n",
       "      <th>LotFrontage</th>\n",
       "      <th>LotArea</th>\n",
       "      <th>Street</th>\n",
       "      <th>Alley</th>\n",
       "      <th>LotShape</th>\n",
       "      <th>LandContour</th>\n",
       "      <th>Utilities</th>\n",
       "      <th>LotConfig</th>\n",
       "      <th>...</th>\n",
       "      <th>PoolArea</th>\n",
       "      <th>PoolQC</th>\n",
       "      <th>Fence</th>\n",
       "      <th>MiscFeature</th>\n",
       "      <th>MiscVal</th>\n",
       "      <th>MoSold</th>\n",
       "      <th>YrSold</th>\n",
       "      <th>SaleType</th>\n",
       "      <th>SaleCondition</th>\n",
       "      <th>SalePrice</th>\n",
       "    </tr>\n",
       "    <tr>\n",
       "      <th>Id</th>\n",
       "      <th></th>\n",
       "      <th></th>\n",
       "      <th></th>\n",
       "      <th></th>\n",
       "      <th></th>\n",
       "      <th></th>\n",
       "      <th></th>\n",
       "      <th></th>\n",
       "      <th></th>\n",
       "      <th></th>\n",
       "      <th></th>\n",
       "      <th></th>\n",
       "      <th></th>\n",
       "      <th></th>\n",
       "      <th></th>\n",
       "      <th></th>\n",
       "      <th></th>\n",
       "      <th></th>\n",
       "      <th></th>\n",
       "      <th></th>\n",
       "      <th></th>\n",
       "    </tr>\n",
       "  </thead>\n",
       "  <tbody>\n",
       "    <tr>\n",
       "      <th>1</th>\n",
       "      <td>60</td>\n",
       "      <td>RL</td>\n",
       "      <td>65.0</td>\n",
       "      <td>8450</td>\n",
       "      <td>Pave</td>\n",
       "      <td>NaN</td>\n",
       "      <td>Reg</td>\n",
       "      <td>Lvl</td>\n",
       "      <td>AllPub</td>\n",
       "      <td>Inside</td>\n",
       "      <td>...</td>\n",
       "      <td>0</td>\n",
       "      <td>NaN</td>\n",
       "      <td>NaN</td>\n",
       "      <td>NaN</td>\n",
       "      <td>0</td>\n",
       "      <td>2</td>\n",
       "      <td>2008</td>\n",
       "      <td>WD</td>\n",
       "      <td>Normal</td>\n",
       "      <td>208500</td>\n",
       "    </tr>\n",
       "    <tr>\n",
       "      <th>2</th>\n",
       "      <td>20</td>\n",
       "      <td>RL</td>\n",
       "      <td>80.0</td>\n",
       "      <td>9600</td>\n",
       "      <td>Pave</td>\n",
       "      <td>NaN</td>\n",
       "      <td>Reg</td>\n",
       "      <td>Lvl</td>\n",
       "      <td>AllPub</td>\n",
       "      <td>FR2</td>\n",
       "      <td>...</td>\n",
       "      <td>0</td>\n",
       "      <td>NaN</td>\n",
       "      <td>NaN</td>\n",
       "      <td>NaN</td>\n",
       "      <td>0</td>\n",
       "      <td>5</td>\n",
       "      <td>2007</td>\n",
       "      <td>WD</td>\n",
       "      <td>Normal</td>\n",
       "      <td>181500</td>\n",
       "    </tr>\n",
       "    <tr>\n",
       "      <th>3</th>\n",
       "      <td>60</td>\n",
       "      <td>RL</td>\n",
       "      <td>68.0</td>\n",
       "      <td>11250</td>\n",
       "      <td>Pave</td>\n",
       "      <td>NaN</td>\n",
       "      <td>IR1</td>\n",
       "      <td>Lvl</td>\n",
       "      <td>AllPub</td>\n",
       "      <td>Inside</td>\n",
       "      <td>...</td>\n",
       "      <td>0</td>\n",
       "      <td>NaN</td>\n",
       "      <td>NaN</td>\n",
       "      <td>NaN</td>\n",
       "      <td>0</td>\n",
       "      <td>9</td>\n",
       "      <td>2008</td>\n",
       "      <td>WD</td>\n",
       "      <td>Normal</td>\n",
       "      <td>223500</td>\n",
       "    </tr>\n",
       "    <tr>\n",
       "      <th>4</th>\n",
       "      <td>70</td>\n",
       "      <td>RL</td>\n",
       "      <td>60.0</td>\n",
       "      <td>9550</td>\n",
       "      <td>Pave</td>\n",
       "      <td>NaN</td>\n",
       "      <td>IR1</td>\n",
       "      <td>Lvl</td>\n",
       "      <td>AllPub</td>\n",
       "      <td>Corner</td>\n",
       "      <td>...</td>\n",
       "      <td>0</td>\n",
       "      <td>NaN</td>\n",
       "      <td>NaN</td>\n",
       "      <td>NaN</td>\n",
       "      <td>0</td>\n",
       "      <td>2</td>\n",
       "      <td>2006</td>\n",
       "      <td>WD</td>\n",
       "      <td>Abnorml</td>\n",
       "      <td>140000</td>\n",
       "    </tr>\n",
       "    <tr>\n",
       "      <th>5</th>\n",
       "      <td>60</td>\n",
       "      <td>RL</td>\n",
       "      <td>84.0</td>\n",
       "      <td>14260</td>\n",
       "      <td>Pave</td>\n",
       "      <td>NaN</td>\n",
       "      <td>IR1</td>\n",
       "      <td>Lvl</td>\n",
       "      <td>AllPub</td>\n",
       "      <td>FR2</td>\n",
       "      <td>...</td>\n",
       "      <td>0</td>\n",
       "      <td>NaN</td>\n",
       "      <td>NaN</td>\n",
       "      <td>NaN</td>\n",
       "      <td>0</td>\n",
       "      <td>12</td>\n",
       "      <td>2008</td>\n",
       "      <td>WD</td>\n",
       "      <td>Normal</td>\n",
       "      <td>250000</td>\n",
       "    </tr>\n",
       "  </tbody>\n",
       "</table>\n",
       "<p>5 rows × 80 columns</p>\n",
       "</div>"
      ],
      "text/plain": [
       "    MSSubClass MSZoning  LotFrontage  LotArea Street Alley LotShape  \\\n",
       "Id                                                                    \n",
       "1           60       RL         65.0     8450   Pave   NaN      Reg   \n",
       "2           20       RL         80.0     9600   Pave   NaN      Reg   \n",
       "3           60       RL         68.0    11250   Pave   NaN      IR1   \n",
       "4           70       RL         60.0     9550   Pave   NaN      IR1   \n",
       "5           60       RL         84.0    14260   Pave   NaN      IR1   \n",
       "\n",
       "   LandContour Utilities LotConfig  ... PoolArea PoolQC Fence MiscFeature  \\\n",
       "Id                                  ...                                     \n",
       "1          Lvl    AllPub    Inside  ...        0    NaN   NaN         NaN   \n",
       "2          Lvl    AllPub       FR2  ...        0    NaN   NaN         NaN   \n",
       "3          Lvl    AllPub    Inside  ...        0    NaN   NaN         NaN   \n",
       "4          Lvl    AllPub    Corner  ...        0    NaN   NaN         NaN   \n",
       "5          Lvl    AllPub       FR2  ...        0    NaN   NaN         NaN   \n",
       "\n",
       "   MiscVal MoSold  YrSold  SaleType  SaleCondition  SalePrice  \n",
       "Id                                                             \n",
       "1        0      2    2008        WD         Normal     208500  \n",
       "2        0      5    2007        WD         Normal     181500  \n",
       "3        0      9    2008        WD         Normal     223500  \n",
       "4        0      2    2006        WD        Abnorml     140000  \n",
       "5        0     12    2008        WD         Normal     250000  \n",
       "\n",
       "[5 rows x 80 columns]"
      ]
     },
     "execution_count": 4,
     "metadata": {},
     "output_type": "execute_result"
    }
   ],
   "source": [
    "train.head()"
   ]
  },
  {
   "cell_type": "code",
   "execution_count": 5,
   "id": "639b8a36",
   "metadata": {
    "execution": {
     "iopub.execute_input": "2022-04-08T01:16:12.977961Z",
     "iopub.status.busy": "2022-04-08T01:16:12.976920Z",
     "iopub.status.idle": "2022-04-08T01:16:13.001836Z",
     "shell.execute_reply": "2022-04-08T01:16:13.002745Z",
     "shell.execute_reply.started": "2022-04-08T01:13:11.018915Z"
    },
    "papermill": {
     "duration": 0.071803,
     "end_time": "2022-04-08T01:16:13.002992",
     "exception": false,
     "start_time": "2022-04-08T01:16:12.931189",
     "status": "completed"
    },
    "tags": []
   },
   "outputs": [
    {
     "name": "stdout",
     "output_type": "stream",
     "text": [
      "<class 'pandas.core.frame.DataFrame'>\n",
      "Int64Index: 1460 entries, 1 to 1460\n",
      "Data columns (total 80 columns):\n",
      " #   Column         Non-Null Count  Dtype  \n",
      "---  ------         --------------  -----  \n",
      " 0   MSSubClass     1460 non-null   int64  \n",
      " 1   MSZoning       1460 non-null   object \n",
      " 2   LotFrontage    1201 non-null   float64\n",
      " 3   LotArea        1460 non-null   int64  \n",
      " 4   Street         1460 non-null   object \n",
      " 5   Alley          91 non-null     object \n",
      " 6   LotShape       1460 non-null   object \n",
      " 7   LandContour    1460 non-null   object \n",
      " 8   Utilities      1460 non-null   object \n",
      " 9   LotConfig      1460 non-null   object \n",
      " 10  LandSlope      1460 non-null   object \n",
      " 11  Neighborhood   1460 non-null   object \n",
      " 12  Condition1     1460 non-null   object \n",
      " 13  Condition2     1460 non-null   object \n",
      " 14  BldgType       1460 non-null   object \n",
      " 15  HouseStyle     1460 non-null   object \n",
      " 16  OverallQual    1460 non-null   int64  \n",
      " 17  OverallCond    1460 non-null   int64  \n",
      " 18  YearBuilt      1460 non-null   int64  \n",
      " 19  YearRemodAdd   1460 non-null   int64  \n",
      " 20  RoofStyle      1460 non-null   object \n",
      " 21  RoofMatl       1460 non-null   object \n",
      " 22  Exterior1st    1460 non-null   object \n",
      " 23  Exterior2nd    1460 non-null   object \n",
      " 24  MasVnrType     1452 non-null   object \n",
      " 25  MasVnrArea     1452 non-null   float64\n",
      " 26  ExterQual      1460 non-null   object \n",
      " 27  ExterCond      1460 non-null   object \n",
      " 28  Foundation     1460 non-null   object \n",
      " 29  BsmtQual       1423 non-null   object \n",
      " 30  BsmtCond       1423 non-null   object \n",
      " 31  BsmtExposure   1422 non-null   object \n",
      " 32  BsmtFinType1   1423 non-null   object \n",
      " 33  BsmtFinSF1     1460 non-null   int64  \n",
      " 34  BsmtFinType2   1422 non-null   object \n",
      " 35  BsmtFinSF2     1460 non-null   int64  \n",
      " 36  BsmtUnfSF      1460 non-null   int64  \n",
      " 37  TotalBsmtSF    1460 non-null   int64  \n",
      " 38  Heating        1460 non-null   object \n",
      " 39  HeatingQC      1460 non-null   object \n",
      " 40  CentralAir     1460 non-null   object \n",
      " 41  Electrical     1459 non-null   object \n",
      " 42  1stFlrSF       1460 non-null   int64  \n",
      " 43  2ndFlrSF       1460 non-null   int64  \n",
      " 44  LowQualFinSF   1460 non-null   int64  \n",
      " 45  GrLivArea      1460 non-null   int64  \n",
      " 46  BsmtFullBath   1460 non-null   int64  \n",
      " 47  BsmtHalfBath   1460 non-null   int64  \n",
      " 48  FullBath       1460 non-null   int64  \n",
      " 49  HalfBath       1460 non-null   int64  \n",
      " 50  BedroomAbvGr   1460 non-null   int64  \n",
      " 51  KitchenAbvGr   1460 non-null   int64  \n",
      " 52  KitchenQual    1460 non-null   object \n",
      " 53  TotRmsAbvGrd   1460 non-null   int64  \n",
      " 54  Functional     1460 non-null   object \n",
      " 55  Fireplaces     1460 non-null   int64  \n",
      " 56  FireplaceQu    770 non-null    object \n",
      " 57  GarageType     1379 non-null   object \n",
      " 58  GarageYrBlt    1379 non-null   float64\n",
      " 59  GarageFinish   1379 non-null   object \n",
      " 60  GarageCars     1460 non-null   int64  \n",
      " 61  GarageArea     1460 non-null   int64  \n",
      " 62  GarageQual     1379 non-null   object \n",
      " 63  GarageCond     1379 non-null   object \n",
      " 64  PavedDrive     1460 non-null   object \n",
      " 65  WoodDeckSF     1460 non-null   int64  \n",
      " 66  OpenPorchSF    1460 non-null   int64  \n",
      " 67  EnclosedPorch  1460 non-null   int64  \n",
      " 68  3SsnPorch      1460 non-null   int64  \n",
      " 69  ScreenPorch    1460 non-null   int64  \n",
      " 70  PoolArea       1460 non-null   int64  \n",
      " 71  PoolQC         7 non-null      object \n",
      " 72  Fence          281 non-null    object \n",
      " 73  MiscFeature    54 non-null     object \n",
      " 74  MiscVal        1460 non-null   int64  \n",
      " 75  MoSold         1460 non-null   int64  \n",
      " 76  YrSold         1460 non-null   int64  \n",
      " 77  SaleType       1460 non-null   object \n",
      " 78  SaleCondition  1460 non-null   object \n",
      " 79  SalePrice      1460 non-null   int64  \n",
      "dtypes: float64(3), int64(34), object(43)\n",
      "memory usage: 923.9+ KB\n"
     ]
    }
   ],
   "source": [
    "train.info()"
   ]
  },
  {
   "cell_type": "code",
   "execution_count": 6,
   "id": "ce1184ae",
   "metadata": {
    "execution": {
     "iopub.execute_input": "2022-04-08T01:16:13.095550Z",
     "iopub.status.busy": "2022-04-08T01:16:13.094461Z",
     "iopub.status.idle": "2022-04-08T01:16:13.100451Z",
     "shell.execute_reply": "2022-04-08T01:16:13.100981Z",
     "shell.execute_reply.started": "2022-04-08T01:13:11.049480Z"
    },
    "papermill": {
     "duration": 0.052455,
     "end_time": "2022-04-08T01:16:13.101151",
     "exception": false,
     "start_time": "2022-04-08T01:16:13.048696",
     "status": "completed"
    },
    "tags": []
   },
   "outputs": [],
   "source": [
    "X = train.drop('SalePrice',axis=1)\n",
    "y = train['SalePrice']"
   ]
  },
  {
   "cell_type": "code",
   "execution_count": 7,
   "id": "1f6ef8fe",
   "metadata": {
    "execution": {
     "iopub.execute_input": "2022-04-08T01:16:13.190157Z",
     "iopub.status.busy": "2022-04-08T01:16:13.189161Z",
     "iopub.status.idle": "2022-04-08T01:16:13.196987Z",
     "shell.execute_reply": "2022-04-08T01:16:13.197548Z",
     "shell.execute_reply.started": "2022-04-08T01:13:11.057859Z"
    },
    "papermill": {
     "duration": 0.053843,
     "end_time": "2022-04-08T01:16:13.197752",
     "exception": false,
     "start_time": "2022-04-08T01:16:13.143909",
     "status": "completed"
    },
    "tags": []
   },
   "outputs": [],
   "source": [
    "numerical_cols = [col for col in X.columns if X[col].dtype in ['float64','int64']]"
   ]
  },
  {
   "cell_type": "code",
   "execution_count": 8,
   "id": "2ed7190a",
   "metadata": {
    "execution": {
     "iopub.execute_input": "2022-04-08T01:16:13.287517Z",
     "iopub.status.busy": "2022-04-08T01:16:13.286516Z",
     "iopub.status.idle": "2022-04-08T01:16:13.291377Z",
     "shell.execute_reply": "2022-04-08T01:16:13.291946Z",
     "shell.execute_reply.started": "2022-04-08T01:13:11.076196Z"
    },
    "papermill": {
     "duration": 0.051982,
     "end_time": "2022-04-08T01:16:13.292129",
     "exception": false,
     "start_time": "2022-04-08T01:16:13.240147",
     "status": "completed"
    },
    "tags": []
   },
   "outputs": [],
   "source": [
    "ordinal_cols = ['MSZoning','LotShape','Utilities','LandSlope','ExterQual','ExterCond','BsmtQual','BsmtCond','BsmtExposure','BsmtFinType1','BsmtFinType2','HeatingQC','KitchenQual','Functional','FireplaceQu','GarageFinish','GarageQual','GarageCond','PavedDrive','PoolQC','Fence']"
   ]
  },
  {
   "cell_type": "code",
   "execution_count": 9,
   "id": "976050f5",
   "metadata": {
    "execution": {
     "iopub.execute_input": "2022-04-08T01:16:13.382329Z",
     "iopub.status.busy": "2022-04-08T01:16:13.381328Z",
     "iopub.status.idle": "2022-04-08T01:16:13.386941Z",
     "shell.execute_reply": "2022-04-08T01:16:13.386408Z",
     "shell.execute_reply.started": "2022-04-08T01:13:11.089085Z"
    },
    "papermill": {
     "duration": 0.051716,
     "end_time": "2022-04-08T01:16:13.387082",
     "exception": false,
     "start_time": "2022-04-08T01:16:13.335366",
     "status": "completed"
    },
    "tags": []
   },
   "outputs": [],
   "source": [
    "nominal_cols = ['Street','Alley','LandContour','LotConfig','Neighborhood','Condition1','Condition2','HouseStyle','BldgType','RoofStyle','RoofMatl','Exterior1st','Exterior2nd','MasVnrType','Foundation','Heating','CentralAir','Electrical','GarageType','MiscFeature','SaleType','SaleCondition']"
   ]
  },
  {
   "cell_type": "code",
   "execution_count": 10,
   "id": "9023de6e",
   "metadata": {
    "execution": {
     "iopub.execute_input": "2022-04-08T01:16:13.474954Z",
     "iopub.status.busy": "2022-04-08T01:16:13.474308Z",
     "iopub.status.idle": "2022-04-08T01:16:13.483111Z",
     "shell.execute_reply": "2022-04-08T01:16:13.482474Z",
     "shell.execute_reply.started": "2022-04-08T01:13:11.103528Z"
    },
    "papermill": {
     "duration": 0.053798,
     "end_time": "2022-04-08T01:16:13.483245",
     "exception": false,
     "start_time": "2022-04-08T01:16:13.429447",
     "status": "completed"
    },
    "tags": []
   },
   "outputs": [],
   "source": [
    "train_num = train[numerical_cols].copy()\n",
    "train_ord = train[ordinal_cols].copy()\n",
    "train_nom = train[nominal_cols].copy()"
   ]
  },
  {
   "cell_type": "code",
   "execution_count": null,
   "id": "b237912e",
   "metadata": {
    "papermill": {
     "duration": 0.041728,
     "end_time": "2022-04-08T01:16:13.566912",
     "exception": false,
     "start_time": "2022-04-08T01:16:13.525184",
     "status": "completed"
    },
    "tags": []
   },
   "outputs": [],
   "source": []
  },
  {
   "cell_type": "code",
   "execution_count": null,
   "id": "a692a5ee",
   "metadata": {
    "papermill": {
     "duration": 0.042002,
     "end_time": "2022-04-08T01:16:13.651846",
     "exception": false,
     "start_time": "2022-04-08T01:16:13.609844",
     "status": "completed"
    },
    "tags": []
   },
   "outputs": [],
   "source": []
  },
  {
   "cell_type": "code",
   "execution_count": 11,
   "id": "30ab572a",
   "metadata": {
    "execution": {
     "iopub.execute_input": "2022-04-08T01:16:13.741353Z",
     "iopub.status.busy": "2022-04-08T01:16:13.740671Z",
     "iopub.status.idle": "2022-04-08T01:16:13.742420Z",
     "shell.execute_reply": "2022-04-08T01:16:13.742906Z",
     "shell.execute_reply.started": "2022-04-08T01:13:11.126052Z"
    },
    "papermill": {
     "duration": 0.049324,
     "end_time": "2022-04-08T01:16:13.743072",
     "exception": false,
     "start_time": "2022-04-08T01:16:13.693748",
     "status": "completed"
    },
    "tags": []
   },
   "outputs": [],
   "source": [
    "def find_nan_cols(df):\n",
    "    null = df.isnull().sum()\n",
    "    missing_df = pd.concat([null], axis=1, keys=['nancount'])\n",
    "    return missing_df[(missing_df.nancount > 0)]"
   ]
  },
  {
   "cell_type": "code",
   "execution_count": null,
   "id": "85149668",
   "metadata": {
    "papermill": {
     "duration": 0.042044,
     "end_time": "2022-04-08T01:16:13.827301",
     "exception": false,
     "start_time": "2022-04-08T01:16:13.785257",
     "status": "completed"
    },
    "tags": []
   },
   "outputs": [],
   "source": []
  },
  {
   "cell_type": "code",
   "execution_count": null,
   "id": "bb6cd170",
   "metadata": {
    "papermill": {
     "duration": 0.043081,
     "end_time": "2022-04-08T01:16:13.912496",
     "exception": false,
     "start_time": "2022-04-08T01:16:13.869415",
     "status": "completed"
    },
    "tags": []
   },
   "outputs": [],
   "source": []
  },
  {
   "cell_type": "markdown",
   "id": "2d764767",
   "metadata": {
    "papermill": {
     "duration": 0.043091,
     "end_time": "2022-04-08T01:16:13.998196",
     "exception": false,
     "start_time": "2022-04-08T01:16:13.955105",
     "status": "completed"
    },
    "tags": []
   },
   "source": [
    "## Preprocessing for numerical columns "
   ]
  },
  {
   "cell_type": "markdown",
   "id": "5a2031d5",
   "metadata": {
    "papermill": {
     "duration": 0.042486,
     "end_time": "2022-04-08T01:16:14.084827",
     "exception": false,
     "start_time": "2022-04-08T01:16:14.042341",
     "status": "completed"
    },
    "tags": []
   },
   "source": []
  },
  {
   "cell_type": "code",
   "execution_count": 12,
   "id": "b47c8d06",
   "metadata": {
    "execution": {
     "iopub.execute_input": "2022-04-08T01:16:14.172498Z",
     "iopub.status.busy": "2022-04-08T01:16:14.171908Z",
     "iopub.status.idle": "2022-04-08T01:16:14.181537Z",
     "shell.execute_reply": "2022-04-08T01:16:14.182083Z",
     "shell.execute_reply.started": "2022-04-08T01:13:11.134414Z"
    },
    "papermill": {
     "duration": 0.054838,
     "end_time": "2022-04-08T01:16:14.182254",
     "exception": false,
     "start_time": "2022-04-08T01:16:14.127416",
     "status": "completed"
    },
    "tags": []
   },
   "outputs": [
    {
     "data": {
      "text/html": [
       "<div>\n",
       "<style scoped>\n",
       "    .dataframe tbody tr th:only-of-type {\n",
       "        vertical-align: middle;\n",
       "    }\n",
       "\n",
       "    .dataframe tbody tr th {\n",
       "        vertical-align: top;\n",
       "    }\n",
       "\n",
       "    .dataframe thead th {\n",
       "        text-align: right;\n",
       "    }\n",
       "</style>\n",
       "<table border=\"1\" class=\"dataframe\">\n",
       "  <thead>\n",
       "    <tr style=\"text-align: right;\">\n",
       "      <th></th>\n",
       "      <th>nancount</th>\n",
       "    </tr>\n",
       "  </thead>\n",
       "  <tbody>\n",
       "    <tr>\n",
       "      <th>LotFrontage</th>\n",
       "      <td>259</td>\n",
       "    </tr>\n",
       "    <tr>\n",
       "      <th>MasVnrArea</th>\n",
       "      <td>8</td>\n",
       "    </tr>\n",
       "    <tr>\n",
       "      <th>GarageYrBlt</th>\n",
       "      <td>81</td>\n",
       "    </tr>\n",
       "  </tbody>\n",
       "</table>\n",
       "</div>"
      ],
      "text/plain": [
       "             nancount\n",
       "LotFrontage       259\n",
       "MasVnrArea          8\n",
       "GarageYrBlt        81"
      ]
     },
     "execution_count": 12,
     "metadata": {},
     "output_type": "execute_result"
    }
   ],
   "source": [
    "find_nan_cols(train_num)"
   ]
  },
  {
   "cell_type": "code",
   "execution_count": 13,
   "id": "ab04bbb8",
   "metadata": {
    "execution": {
     "iopub.execute_input": "2022-04-08T01:16:14.272865Z",
     "iopub.status.busy": "2022-04-08T01:16:14.272139Z",
     "iopub.status.idle": "2022-04-08T01:16:14.277016Z",
     "shell.execute_reply": "2022-04-08T01:16:14.277511Z",
     "shell.execute_reply.started": "2022-04-08T01:13:11.156727Z"
    },
    "papermill": {
     "duration": 0.052268,
     "end_time": "2022-04-08T01:16:14.277687",
     "exception": false,
     "start_time": "2022-04-08T01:16:14.225419",
     "status": "completed"
    },
    "tags": []
   },
   "outputs": [],
   "source": [
    "train_num.drop(['LotFrontage','GarageYrBlt'],axis=1,inplace=True) # i'll delete columns that have missing values > 5%"
   ]
  },
  {
   "cell_type": "code",
   "execution_count": 14,
   "id": "96dc1cb4",
   "metadata": {
    "execution": {
     "iopub.execute_input": "2022-04-08T01:16:14.370567Z",
     "iopub.status.busy": "2022-04-08T01:16:14.369867Z",
     "iopub.status.idle": "2022-04-08T01:16:14.371288Z",
     "shell.execute_reply": "2022-04-08T01:16:14.371861Z",
     "shell.execute_reply.started": "2022-04-08T01:13:11.164602Z"
    },
    "papermill": {
     "duration": 0.049771,
     "end_time": "2022-04-08T01:16:14.372039",
     "exception": false,
     "start_time": "2022-04-08T01:16:14.322268",
     "status": "completed"
    },
    "tags": []
   },
   "outputs": [],
   "source": [
    "numerical_cols = train_num.columns # updating numerical cols "
   ]
  },
  {
   "cell_type": "code",
   "execution_count": 15,
   "id": "d70d04bd",
   "metadata": {
    "execution": {
     "iopub.execute_input": "2022-04-08T01:16:14.466678Z",
     "iopub.status.busy": "2022-04-08T01:16:14.463975Z",
     "iopub.status.idle": "2022-04-08T01:16:14.468210Z",
     "shell.execute_reply": "2022-04-08T01:16:14.468852Z",
     "shell.execute_reply.started": "2022-04-08T01:13:11.175800Z"
    },
    "papermill": {
     "duration": 0.05253,
     "end_time": "2022-04-08T01:16:14.469026",
     "exception": false,
     "start_time": "2022-04-08T01:16:14.416496",
     "status": "completed"
    },
    "tags": []
   },
   "outputs": [],
   "source": [
    "# saving columns medians in meds dictionary after filling them. \n",
    "def Fill_num(df):\n",
    "    meds = {}\n",
    "    for col in find_nan_cols(df).index :\n",
    "        df.fillna(df[col].median(),inplace=True)\n",
    "        meds[col] = df[col].median()\n",
    "    return meds"
   ]
  },
  {
   "cell_type": "code",
   "execution_count": 16,
   "id": "87bd0023",
   "metadata": {
    "execution": {
     "iopub.execute_input": "2022-04-08T01:16:14.559436Z",
     "iopub.status.busy": "2022-04-08T01:16:14.558614Z",
     "iopub.status.idle": "2022-04-08T01:16:14.565142Z",
     "shell.execute_reply": "2022-04-08T01:16:14.565687Z",
     "shell.execute_reply.started": "2022-04-08T01:13:11.188198Z"
    },
    "papermill": {
     "duration": 0.053577,
     "end_time": "2022-04-08T01:16:14.565899",
     "exception": false,
     "start_time": "2022-04-08T01:16:14.512322",
     "status": "completed"
    },
    "tags": []
   },
   "outputs": [],
   "source": [
    "meds = Fill_num(train_num)"
   ]
  },
  {
   "cell_type": "code",
   "execution_count": 17,
   "id": "bfcd6208",
   "metadata": {
    "execution": {
     "iopub.execute_input": "2022-04-08T01:16:14.655616Z",
     "iopub.status.busy": "2022-04-08T01:16:14.655009Z",
     "iopub.status.idle": "2022-04-08T01:16:15.122606Z",
     "shell.execute_reply": "2022-04-08T01:16:15.122003Z",
     "shell.execute_reply.started": "2022-04-08T01:13:11.203804Z"
    },
    "papermill": {
     "duration": 0.514093,
     "end_time": "2022-04-08T01:16:15.122766",
     "exception": false,
     "start_time": "2022-04-08T01:16:14.608673",
     "status": "completed"
    },
    "tags": []
   },
   "outputs": [],
   "source": [
    "## Features Selection \n",
    "\n",
    "from sklearn.feature_selection import mutual_info_regression as MIR\n",
    "mi_score = MIR(np.array(train_num),y.ravel())"
   ]
  },
  {
   "cell_type": "code",
   "execution_count": 18,
   "id": "1e8a8d62",
   "metadata": {
    "execution": {
     "iopub.execute_input": "2022-04-08T01:16:15.215767Z",
     "iopub.status.busy": "2022-04-08T01:16:15.215084Z",
     "iopub.status.idle": "2022-04-08T01:16:15.217701Z",
     "shell.execute_reply": "2022-04-08T01:16:15.218232Z",
     "shell.execute_reply.started": "2022-04-08T01:13:11.543844Z"
    },
    "papermill": {
     "duration": 0.052377,
     "end_time": "2022-04-08T01:16:15.218407",
     "exception": false,
     "start_time": "2022-04-08T01:16:15.166030",
     "status": "completed"
    },
    "tags": []
   },
   "outputs": [
    {
     "data": {
      "text/plain": [
       "array([0.27132964, 0.1609512 , 0.56060787, 0.11277919, 0.37151335,\n",
       "       0.2473976 , 0.08908939, 0.14945937, 0.        , 0.11573687,\n",
       "       0.36561847, 0.30930041, 0.19346397, 0.        , 0.48060608,\n",
       "       0.02391544, 0.00807127, 0.25987216, 0.08632189, 0.06444198,\n",
       "       0.02995021, 0.22036887, 0.16675344, 0.36158855, 0.36747638,\n",
       "       0.09636828, 0.14525969, 0.02337301, 0.00315817, 0.0103864 ,\n",
       "       0.        , 0.00441507, 0.        , 0.        ])"
      ]
     },
     "execution_count": 18,
     "metadata": {},
     "output_type": "execute_result"
    }
   ],
   "source": [
    "mi_score"
   ]
  },
  {
   "cell_type": "code",
   "execution_count": 19,
   "id": "43111438",
   "metadata": {
    "execution": {
     "iopub.execute_input": "2022-04-08T01:16:15.308630Z",
     "iopub.status.busy": "2022-04-08T01:16:15.308042Z",
     "iopub.status.idle": "2022-04-08T01:16:15.312605Z",
     "shell.execute_reply": "2022-04-08T01:16:15.313154Z",
     "shell.execute_reply.started": "2022-04-08T01:13:11.551722Z"
    },
    "papermill": {
     "duration": 0.050831,
     "end_time": "2022-04-08T01:16:15.313315",
     "exception": false,
     "start_time": "2022-04-08T01:16:15.262484",
     "status": "completed"
    },
    "tags": []
   },
   "outputs": [
    {
     "data": {
      "text/plain": [
       "array([ 0,  2,  4,  5, 10, 11, 14, 17, 21, 23, 24])"
      ]
     },
     "execution_count": 19,
     "metadata": {},
     "output_type": "execute_result"
    }
   ],
   "source": [
    "mi_score_selected_index = np.where(mi_score >0.2)[0]\n",
    "mi_score_selected_index"
   ]
  },
  {
   "cell_type": "code",
   "execution_count": 20,
   "id": "71e98c64",
   "metadata": {
    "execution": {
     "iopub.execute_input": "2022-04-08T01:16:15.404981Z",
     "iopub.status.busy": "2022-04-08T01:16:15.404339Z",
     "iopub.status.idle": "2022-04-08T01:16:15.406858Z",
     "shell.execute_reply": "2022-04-08T01:16:15.407253Z",
     "shell.execute_reply.started": "2022-04-08T01:13:11.565883Z"
    },
    "papermill": {
     "duration": 0.050831,
     "end_time": "2022-04-08T01:16:15.407422",
     "exception": false,
     "start_time": "2022-04-08T01:16:15.356591",
     "status": "completed"
    },
    "tags": []
   },
   "outputs": [],
   "source": [
    "train_num_ = train_num.iloc[:,mi_score_selected_index]"
   ]
  },
  {
   "cell_type": "code",
   "execution_count": 21,
   "id": "f64370a8",
   "metadata": {
    "execution": {
     "iopub.execute_input": "2022-04-08T01:16:15.499263Z",
     "iopub.status.busy": "2022-04-08T01:16:15.498575Z",
     "iopub.status.idle": "2022-04-08T01:16:15.866864Z",
     "shell.execute_reply": "2022-04-08T01:16:15.866263Z",
     "shell.execute_reply.started": "2022-04-08T01:13:11.575596Z"
    },
    "papermill": {
     "duration": 0.416364,
     "end_time": "2022-04-08T01:16:15.867014",
     "exception": false,
     "start_time": "2022-04-08T01:16:15.450650",
     "status": "completed"
    },
    "tags": []
   },
   "outputs": [
    {
     "data": {
      "text/plain": [
       "<AxesSubplot:>"
      ]
     },
     "execution_count": 21,
     "metadata": {},
     "output_type": "execute_result"
    },
    {
     "data": {
      "image/png": "[encoded data removed]",
      "text/plain": [
       "<Figure size 864x648 with 2 Axes>"
      ]
     },
     "metadata": {
      "needs_background": "light"
     },
     "output_type": "display_data"
    }
   ],
   "source": [
    "#correlation matrix for selected features\n",
    "corrmat = train_num_.corr()\n",
    "f, ax = plt.subplots(figsize=(12, 9))\n",
    "sns.heatmap(corrmat, vmax=.8, square=True)"
   ]
  },
  {
   "cell_type": "code",
   "execution_count": 22,
   "id": "cf4f3d72",
   "metadata": {
    "execution": {
     "iopub.execute_input": "2022-04-08T01:16:15.964277Z",
     "iopub.status.busy": "2022-04-08T01:16:15.963466Z",
     "iopub.status.idle": "2022-04-08T01:16:15.966136Z",
     "shell.execute_reply": "2022-04-08T01:16:15.965620Z",
     "shell.execute_reply.started": "2022-04-08T01:13:12.034608Z"
    },
    "papermill": {
     "duration": 0.053289,
     "end_time": "2022-04-08T01:16:15.966272",
     "exception": false,
     "start_time": "2022-04-08T01:16:15.912983",
     "status": "completed"
    },
    "tags": []
   },
   "outputs": [],
   "source": [
    "numerical_final_cols = ['OverallQual','YearBuilt','TotalBsmtSF','GrLivArea','FullBath','GarageCars']"
   ]
  },
  {
   "cell_type": "code",
   "execution_count": 23,
   "id": "1e84c5b0",
   "metadata": {
    "execution": {
     "iopub.execute_input": "2022-04-08T01:16:16.061020Z",
     "iopub.status.busy": "2022-04-08T01:16:16.060066Z",
     "iopub.status.idle": "2022-04-08T01:16:16.065271Z",
     "shell.execute_reply": "2022-04-08T01:16:16.065703Z",
     "shell.execute_reply.started": "2022-04-08T01:13:12.043063Z"
    },
    "papermill": {
     "duration": 0.054444,
     "end_time": "2022-04-08T01:16:16.065899",
     "exception": false,
     "start_time": "2022-04-08T01:16:16.011455",
     "status": "completed"
    },
    "tags": []
   },
   "outputs": [],
   "source": [
    "train_num_array = np.array(train_num[numerical_final_cols])"
   ]
  },
  {
   "cell_type": "markdown",
   "id": "b706d4ae",
   "metadata": {
    "papermill": {
     "duration": 0.044699,
     "end_time": "2022-04-08T01:16:16.156212",
     "exception": false,
     "start_time": "2022-04-08T01:16:16.111513",
     "status": "completed"
    },
    "tags": []
   },
   "source": [
    "## Preproccesing for Ordinal Columns "
   ]
  },
  {
   "cell_type": "code",
   "execution_count": 24,
   "id": "8b36fd0a",
   "metadata": {
    "execution": {
     "iopub.execute_input": "2022-04-08T01:16:16.252135Z",
     "iopub.status.busy": "2022-04-08T01:16:16.251151Z",
     "iopub.status.idle": "2022-04-08T01:16:16.257199Z",
     "shell.execute_reply": "2022-04-08T01:16:16.257691Z",
     "shell.execute_reply.started": "2022-04-08T01:13:12.060522Z"
    },
    "papermill": {
     "duration": 0.056595,
     "end_time": "2022-04-08T01:16:16.257891",
     "exception": false,
     "start_time": "2022-04-08T01:16:16.201296",
     "status": "completed"
    },
    "tags": []
   },
   "outputs": [],
   "source": [
    "def Fill_ord(df):\n",
    "    mods = {}\n",
    "    some_cols = ['BsmtQual','BsmtCond','BsmtExposure','BsmtFinType1','BsmtFinType2','FireplaceQu','GarageFinish','GarageQual','GarageCond','PoolQC','Fence']\n",
    "    for col in find_nan_cols(df).index :\n",
    "        if col in some_cols:\n",
    "            df[col] = df[col].replace(np.nan,'NOTFOUND')\n",
    "        else:\n",
    "            df[col] = df[col].replace(np.nan,df[col].mode()[0])\n",
    "            mods[col] = df[col].mode()[0]\n",
    "    return mods"
   ]
  },
  {
   "cell_type": "code",
   "execution_count": 25,
   "id": "84fdad80",
   "metadata": {
    "execution": {
     "iopub.execute_input": "2022-04-08T01:16:16.351174Z",
     "iopub.status.busy": "2022-04-08T01:16:16.350226Z",
     "iopub.status.idle": "2022-04-08T01:16:16.362892Z",
     "shell.execute_reply": "2022-04-08T01:16:16.363368Z",
     "shell.execute_reply.started": "2022-04-08T01:13:12.070650Z"
    },
    "papermill": {
     "duration": 0.06118,
     "end_time": "2022-04-08T01:16:16.363538",
     "exception": false,
     "start_time": "2022-04-08T01:16:16.302358",
     "status": "completed"
    },
    "tags": []
   },
   "outputs": [],
   "source": [
    "mods = Fill_ord(train_ord)"
   ]
  },
  {
   "cell_type": "code",
   "execution_count": 26,
   "id": "d511effd",
   "metadata": {
    "execution": {
     "iopub.execute_input": "2022-04-08T01:16:16.456542Z",
     "iopub.status.busy": "2022-04-08T01:16:16.455620Z",
     "iopub.status.idle": "2022-04-08T01:16:16.459893Z",
     "shell.execute_reply": "2022-04-08T01:16:16.460377Z",
     "shell.execute_reply.started": "2022-04-08T01:13:12.099486Z"
    },
    "papermill": {
     "duration": 0.052292,
     "end_time": "2022-04-08T01:16:16.460539",
     "exception": false,
     "start_time": "2022-04-08T01:16:16.408247",
     "status": "completed"
    },
    "tags": []
   },
   "outputs": [],
   "source": [
    "from sklearn.preprocessing import OrdinalEncoder\n",
    "def OrdinalEncoding(col,cat):\n",
    "    ord_enc = OrdinalEncoder(categories = [cat])\n",
    "    return ord_enc.fit_transform(col)"
   ]
  },
  {
   "cell_type": "code",
   "execution_count": 27,
   "id": "bd836643",
   "metadata": {
    "execution": {
     "iopub.execute_input": "2022-04-08T01:16:16.556751Z",
     "iopub.status.busy": "2022-04-08T01:16:16.555771Z",
     "iopub.status.idle": "2022-04-08T01:16:16.565583Z",
     "shell.execute_reply": "2022-04-08T01:16:16.566153Z",
     "shell.execute_reply.started": "2022-04-08T01:13:12.107441Z"
    },
    "papermill": {
     "duration": 0.060932,
     "end_time": "2022-04-08T01:16:16.566343",
     "exception": false,
     "start_time": "2022-04-08T01:16:16.505411",
     "status": "completed"
    },
    "tags": []
   },
   "outputs": [],
   "source": [
    "def Ordinal_Encoding(df):\n",
    "    categories = {'MSZoning' : ['A','C (all)','FV','I','RH','RL','RP','RM'],\n",
    "              'LotShape' : ['IR3','IR2','IR1','Reg'],\n",
    "              'Utilities' : ['ELO','NoSeWa','NoSewr','AllPub'],\n",
    "             'LandSlope' : ['Sev','Mod','Gtl'],\n",
    "             'ExterQual' : ['Po','Fa','TA','Gd','Ex'],\n",
    "             'ExterCond' : ['Po','Fa','TA','Gd','Ex'],\n",
    "             'BsmtQual' : ['NOTFOUND','Po','Fa','TA','Gd','Ex'],\n",
    "             'BsmtCond' : ['NOTFOUND','Po','Fa','TA','Gd','Ex'],\n",
    "             'BsmtExposure' : ['NOTFOUND','No','Mn','Av','Gd'],\n",
    "             'BsmtFinType1' : ['NOTFOUND','Unf','LwQ','Rec','BLQ','ALQ','GLQ'],\n",
    "             'BsmtFinType2' : ['NOTFOUND','Unf','LwQ','Rec','BLQ','ALQ','GLQ'],\n",
    "             'HeatingQC' : ['Po','Fa','TA','Gd','Ex'],\n",
    "             'KitchenQual' : ['Po','Fa','TA','Gd','Ex'],\n",
    "             'Functional' : ['Sal','Sev','Maj2','Maj1','Mod','Min2','Min1','Typ'],\n",
    "             'FireplaceQu' : ['NOTFOUND','Po','Fa','TA','Gd','Ex'],\n",
    "             'GarageFinish' : ['NOTFOUND','Unf','RFn','Fin'],\n",
    "             'GarageQual' : ['NOTFOUND','Po','Fa','TA','Gd','Ex'],\n",
    "             'GarageCond' : ['NOTFOUND','Po','Fa','TA','Gd','Ex'],\n",
    "             'PavedDrive' : ['N','P','Y'],\n",
    "             'PoolQC' : ['NOTFOUND','Fa','TA','Gd','Ex'],\n",
    "             'Fence'  : ['NOTFOUND','MnWw','GdWo','MnPrv','GdPrv']}\n",
    "    for col in df.columns :\n",
    "        df[col] = OrdinalEncoding(df[[col]],categories[col])"
   ]
  },
  {
   "cell_type": "code",
   "execution_count": 28,
   "id": "69bd18bc",
   "metadata": {
    "execution": {
     "iopub.execute_input": "2022-04-08T01:16:16.661881Z",
     "iopub.status.busy": "2022-04-08T01:16:16.660925Z",
     "iopub.status.idle": "2022-04-08T01:16:16.704256Z",
     "shell.execute_reply": "2022-04-08T01:16:16.704763Z",
     "shell.execute_reply.started": "2022-04-08T01:13:12.123897Z"
    },
    "papermill": {
     "duration": 0.092846,
     "end_time": "2022-04-08T01:16:16.704956",
     "exception": false,
     "start_time": "2022-04-08T01:16:16.612110",
     "status": "completed"
    },
    "tags": []
   },
   "outputs": [],
   "source": [
    "Ordinal_Encoding(train_ord)"
   ]
  },
  {
   "cell_type": "code",
   "execution_count": 29,
   "id": "c05db2b7",
   "metadata": {
    "execution": {
     "iopub.execute_input": "2022-04-08T01:16:16.801806Z",
     "iopub.status.busy": "2022-04-08T01:16:16.800869Z",
     "iopub.status.idle": "2022-04-08T01:16:16.804936Z",
     "shell.execute_reply": "2022-04-08T01:16:16.805450Z",
     "shell.execute_reply.started": "2022-04-08T01:13:12.192640Z"
    },
    "papermill": {
     "duration": 0.053372,
     "end_time": "2022-04-08T01:16:16.805622",
     "exception": false,
     "start_time": "2022-04-08T01:16:16.752250",
     "status": "completed"
    },
    "tags": []
   },
   "outputs": [],
   "source": [
    "oridnal_cols_final = ['Utilities','ExterQual','BsmtQual','KitchenQual','FireplaceQu','GarageFinish','PoolQC',]"
   ]
  },
  {
   "cell_type": "code",
   "execution_count": 30,
   "id": "d2e8e9b0",
   "metadata": {
    "execution": {
     "iopub.execute_input": "2022-04-08T01:16:16.899765Z",
     "iopub.status.busy": "2022-04-08T01:16:16.898828Z",
     "iopub.status.idle": "2022-04-08T01:16:16.904693Z",
     "shell.execute_reply": "2022-04-08T01:16:16.904175Z",
     "shell.execute_reply.started": "2022-04-08T01:13:12.200378Z"
    },
    "papermill": {
     "duration": 0.053518,
     "end_time": "2022-04-08T01:16:16.904850",
     "exception": false,
     "start_time": "2022-04-08T01:16:16.851332",
     "status": "completed"
    },
    "tags": []
   },
   "outputs": [],
   "source": [
    "train_ord_array = np.array(train_ord[oridnal_cols_final])"
   ]
  },
  {
   "cell_type": "markdown",
   "id": "492e7b32",
   "metadata": {
    "papermill": {
     "duration": 0.046218,
     "end_time": "2022-04-08T01:16:16.996662",
     "exception": false,
     "start_time": "2022-04-08T01:16:16.950444",
     "status": "completed"
    },
    "tags": []
   },
   "source": [
    "## Preprocessing for Nominal columns "
   ]
  },
  {
   "cell_type": "code",
   "execution_count": 31,
   "id": "2632cfc2",
   "metadata": {
    "execution": {
     "iopub.execute_input": "2022-04-08T01:16:17.091977Z",
     "iopub.status.busy": "2022-04-08T01:16:17.091155Z",
     "iopub.status.idle": "2022-04-08T01:16:17.094028Z",
     "shell.execute_reply": "2022-04-08T01:16:17.093541Z",
     "shell.execute_reply.started": "2022-04-08T01:13:12.214748Z"
    },
    "papermill": {
     "duration": 0.052392,
     "end_time": "2022-04-08T01:16:17.094173",
     "exception": false,
     "start_time": "2022-04-08T01:16:17.041781",
     "status": "completed"
    },
    "tags": []
   },
   "outputs": [],
   "source": [
    "def Fill_nom(df):\n",
    "    for col in find_nan_cols(df).index :\n",
    "        df[col] = df[col].replace(np.nan,df[col].mode()[0])"
   ]
  },
  {
   "cell_type": "code",
   "execution_count": 32,
   "id": "776dcea2",
   "metadata": {
    "execution": {
     "iopub.execute_input": "2022-04-08T01:16:17.197251Z",
     "iopub.status.busy": "2022-04-08T01:16:17.196507Z",
     "iopub.status.idle": "2022-04-08T01:16:17.199321Z",
     "shell.execute_reply": "2022-04-08T01:16:17.198821Z",
     "shell.execute_reply.started": "2022-04-08T01:13:12.228798Z"
    },
    "papermill": {
     "duration": 0.060364,
     "end_time": "2022-04-08T01:16:17.199457",
     "exception": false,
     "start_time": "2022-04-08T01:16:17.139093",
     "status": "completed"
    },
    "tags": []
   },
   "outputs": [],
   "source": [
    "Fill_nom(train_nom)"
   ]
  },
  {
   "cell_type": "code",
   "execution_count": 33,
   "id": "37b6c72b",
   "metadata": {
    "execution": {
     "iopub.execute_input": "2022-04-08T01:16:17.291924Z",
     "iopub.status.busy": "2022-04-08T01:16:17.291325Z",
     "iopub.status.idle": "2022-04-08T01:16:17.294767Z",
     "shell.execute_reply": "2022-04-08T01:16:17.295304Z",
     "shell.execute_reply.started": "2022-04-08T01:13:12.253209Z"
    },
    "papermill": {
     "duration": 0.051209,
     "end_time": "2022-04-08T01:16:17.295467",
     "exception": false,
     "start_time": "2022-04-08T01:16:17.244258",
     "status": "completed"
    },
    "tags": []
   },
   "outputs": [],
   "source": [
    "nominal_cols_final = ['Street','Neighborhood','Condition1','HouseStyle','BldgType','RoofStyle','Exterior1st','MasVnrType','Heating','CentralAir','Electrical','SaleType',\n",
    " 'SaleCondition']"
   ]
  },
  {
   "cell_type": "code",
   "execution_count": 34,
   "id": "b45985db",
   "metadata": {
    "execution": {
     "iopub.execute_input": "2022-04-08T01:16:17.395069Z",
     "iopub.status.busy": "2022-04-08T01:16:17.394344Z",
     "iopub.status.idle": "2022-04-08T01:16:17.414787Z",
     "shell.execute_reply": "2022-04-08T01:16:17.415259Z",
     "shell.execute_reply.started": "2022-04-08T01:13:12.260616Z"
    },
    "papermill": {
     "duration": 0.072338,
     "end_time": "2022-04-08T01:16:17.415441",
     "exception": false,
     "start_time": "2022-04-08T01:16:17.343103",
     "status": "completed"
    },
    "tags": []
   },
   "outputs": [],
   "source": [
    "from sklearn.preprocessing import OneHotEncoder\n",
    "from sklearn.compose import make_column_transformer\n",
    "    \n",
    "oh_enc = OneHotEncoder(sparse = False)\n",
    "column_transform = make_column_transformer(\n",
    "        (oh_enc,nominal_cols_final))\n",
    "column_transform.fit(train_nom)\n",
    "def one_hot_encoding(df,column_transform):\n",
    "    return column_transform.transform(df)\n"
   ]
  },
  {
   "cell_type": "code",
   "execution_count": 35,
   "id": "05481615",
   "metadata": {
    "execution": {
     "iopub.execute_input": "2022-04-08T01:16:17.514176Z",
     "iopub.status.busy": "2022-04-08T01:16:17.507472Z",
     "iopub.status.idle": "2022-04-08T01:16:17.520655Z",
     "shell.execute_reply": "2022-04-08T01:16:17.521123Z",
     "shell.execute_reply.started": "2022-04-08T01:13:12.291061Z"
    },
    "papermill": {
     "duration": 0.061212,
     "end_time": "2022-04-08T01:16:17.521346",
     "exception": false,
     "start_time": "2022-04-08T01:16:17.460134",
     "status": "completed"
    },
    "tags": []
   },
   "outputs": [],
   "source": [
    "train_nom_arr = one_hot_encoding(train_nom,column_transform)"
   ]
  },
  {
   "cell_type": "code",
   "execution_count": null,
   "id": "b45577da",
   "metadata": {
    "papermill": {
     "duration": 0.044552,
     "end_time": "2022-04-08T01:16:17.617102",
     "exception": false,
     "start_time": "2022-04-08T01:16:17.572550",
     "status": "completed"
    },
    "tags": []
   },
   "outputs": [],
   "source": []
  },
  {
   "cell_type": "markdown",
   "id": "75deb26b",
   "metadata": {
    "papermill": {
     "duration": 0.044221,
     "end_time": "2022-04-08T01:16:17.706550",
     "exception": false,
     "start_time": "2022-04-08T01:16:17.662329",
     "status": "completed"
    },
    "tags": []
   },
   "source": [
    "## Combining all columns "
   ]
  },
  {
   "cell_type": "code",
   "execution_count": 36,
   "id": "06f31869",
   "metadata": {
    "execution": {
     "iopub.execute_input": "2022-04-08T01:16:17.800272Z",
     "iopub.status.busy": "2022-04-08T01:16:17.799663Z",
     "iopub.status.idle": "2022-04-08T01:16:17.803248Z",
     "shell.execute_reply": "2022-04-08T01:16:17.803650Z",
     "shell.execute_reply.started": "2022-04-08T01:13:12.311518Z"
    },
    "papermill": {
     "duration": 0.051769,
     "end_time": "2022-04-08T01:16:17.803833",
     "exception": false,
     "start_time": "2022-04-08T01:16:17.752064",
     "status": "completed"
    },
    "tags": []
   },
   "outputs": [],
   "source": [
    "X_train_ = np.c_[train_num_array,train_ord_array,train_nom_arr]"
   ]
  },
  {
   "cell_type": "code",
   "execution_count": 37,
   "id": "81ff5f3f",
   "metadata": {
    "execution": {
     "iopub.execute_input": "2022-04-08T01:16:17.897867Z",
     "iopub.status.busy": "2022-04-08T01:16:17.897205Z",
     "iopub.status.idle": "2022-04-08T01:16:17.903761Z",
     "shell.execute_reply": "2022-04-08T01:16:17.904293Z",
     "shell.execute_reply.started": "2022-04-08T01:13:12.322538Z"
    },
    "papermill": {
     "duration": 0.054538,
     "end_time": "2022-04-08T01:16:17.904466",
     "exception": false,
     "start_time": "2022-04-08T01:16:17.849928",
     "status": "completed"
    },
    "tags": []
   },
   "outputs": [],
   "source": [
    "# scaling \n",
    "from sklearn.preprocessing import StandardScaler \n",
    "X_train_scaled = StandardScaler().fit_transform(X_train_)"
   ]
  },
  {
   "cell_type": "code",
   "execution_count": 38,
   "id": "29936717",
   "metadata": {
    "execution": {
     "iopub.execute_input": "2022-04-08T01:16:17.997907Z",
     "iopub.status.busy": "2022-04-08T01:16:17.997225Z",
     "iopub.status.idle": "2022-04-08T01:16:18.003933Z",
     "shell.execute_reply": "2022-04-08T01:16:18.004353Z",
     "shell.execute_reply.started": "2022-04-08T01:13:12.337158Z"
    },
    "papermill": {
     "duration": 0.055162,
     "end_time": "2022-04-08T01:16:18.004533",
     "exception": false,
     "start_time": "2022-04-08T01:16:17.949371",
     "status": "completed"
    },
    "tags": []
   },
   "outputs": [],
   "source": [
    "X_train, X_test, y_train, y_test = train_test_split(X_train_scaled, y, test_size=0.2, random_state=42)"
   ]
  },
  {
   "cell_type": "markdown",
   "id": "fe73c2ef",
   "metadata": {
    "papermill": {
     "duration": 0.045302,
     "end_time": "2022-04-08T01:16:18.094761",
     "exception": false,
     "start_time": "2022-04-08T01:16:18.049459",
     "status": "completed"
    },
    "tags": []
   },
   "source": [
    "## ML MODEL"
   ]
  },
  {
   "cell_type": "code",
   "execution_count": 39,
   "id": "3a83280d",
   "metadata": {
    "execution": {
     "iopub.execute_input": "2022-04-08T01:16:18.187219Z",
     "iopub.status.busy": "2022-04-08T01:16:18.186546Z",
     "iopub.status.idle": "2022-04-08T01:16:18.974623Z",
     "shell.execute_reply": "2022-04-08T01:16:18.974035Z",
     "shell.execute_reply.started": "2022-04-08T01:13:12.348993Z"
    },
    "papermill": {
     "duration": 0.835574,
     "end_time": "2022-04-08T01:16:18.974804",
     "exception": false,
     "start_time": "2022-04-08T01:16:18.139230",
     "status": "completed"
    },
    "tags": []
   },
   "outputs": [],
   "source": [
    "from xgboost import XGBRegressor\n",
    "from sklearn.metrics import mean_squared_error\n",
    "\n",
    "\n",
    "model = XGBRegressor()\n",
    "model.fit(X_train, y_train)\n",
    "pred = model.predict(X_test)\n",
    "rmse = (np.sqrt(mean_squared_error(np.log(y_test), np.log(pred))))"
   ]
  },
  {
   "cell_type": "code",
   "execution_count": 40,
   "id": "27ecdc1d",
   "metadata": {
    "execution": {
     "iopub.execute_input": "2022-04-08T01:16:19.071573Z",
     "iopub.status.busy": "2022-04-08T01:16:19.070615Z",
     "iopub.status.idle": "2022-04-08T01:16:19.074039Z",
     "shell.execute_reply": "2022-04-08T01:16:19.074577Z",
     "shell.execute_reply.started": "2022-04-08T01:13:13.117182Z"
    },
    "papermill": {
     "duration": 0.053314,
     "end_time": "2022-04-08T01:16:19.074792",
     "exception": false,
     "start_time": "2022-04-08T01:16:19.021478",
     "status": "completed"
    },
    "tags": []
   },
   "outputs": [
    {
     "data": {
      "text/plain": [
       "0.15967507878360804"
      ]
     },
     "execution_count": 40,
     "metadata": {},
     "output_type": "execute_result"
    }
   ],
   "source": [
    "rmse"
   ]
  },
  {
   "cell_type": "markdown",
   "id": "59f57e6f",
   "metadata": {
    "papermill": {
     "duration": 0.044432,
     "end_time": "2022-04-08T01:16:19.164654",
     "exception": false,
     "start_time": "2022-04-08T01:16:19.120222",
     "status": "completed"
    },
    "tags": []
   },
   "source": [
    "## test part"
   ]
  },
  {
   "cell_type": "code",
   "execution_count": 41,
   "id": "f7ff8add",
   "metadata": {
    "execution": {
     "iopub.execute_input": "2022-04-08T01:16:19.262100Z",
     "iopub.status.busy": "2022-04-08T01:16:19.257805Z",
     "iopub.status.idle": "2022-04-08T01:16:19.265855Z",
     "shell.execute_reply": "2022-04-08T01:16:19.265367Z",
     "shell.execute_reply.started": "2022-04-08T01:13:13.124083Z"
    },
    "papermill": {
     "duration": 0.056066,
     "end_time": "2022-04-08T01:16:19.265996",
     "exception": false,
     "start_time": "2022-04-08T01:16:19.209930",
     "status": "completed"
    },
    "tags": []
   },
   "outputs": [],
   "source": [
    "test_num = test[numerical_final_cols].copy()\n",
    "test_ord = test[oridnal_cols_final].copy()\n",
    "test_nom = test[nominal_cols_final].copy()"
   ]
  },
  {
   "cell_type": "code",
   "execution_count": 42,
   "id": "6efb3850",
   "metadata": {
    "execution": {
     "iopub.execute_input": "2022-04-08T01:16:19.358109Z",
     "iopub.status.busy": "2022-04-08T01:16:19.357540Z",
     "iopub.status.idle": "2022-04-08T01:16:19.369433Z",
     "shell.execute_reply": "2022-04-08T01:16:19.369966Z",
     "shell.execute_reply.started": "2022-04-08T01:13:13.139899Z"
    },
    "papermill": {
     "duration": 0.059633,
     "end_time": "2022-04-08T01:16:19.370152",
     "exception": false,
     "start_time": "2022-04-08T01:16:19.310519",
     "status": "completed"
    },
    "tags": []
   },
   "outputs": [],
   "source": [
    "for col in find_nan_cols(test_ord).index :\n",
    "    if col in list(mods.keys()) :\n",
    "        test_ord[col] = test_ord[col].replace(np.nan,mods[col])\n",
    "    elif col in ['BsmtQual','BsmtCond','BsmtExposure','BsmtFinType1','BsmtFinType2','FireplaceQu','GarageFinish','GarageQual','GarageCond','PoolQC','Fence'] :\n",
    "        test_ord[col] = test_ord[col].replace(np.nan,'NOTFOUND')\n",
    "    else:\n",
    "        test_ord[col] = test_ord[col].replace(np.nan,test_ord[col].mode()[0])"
   ]
  },
  {
   "cell_type": "code",
   "execution_count": 43,
   "id": "5bca9010",
   "metadata": {
    "execution": {
     "iopub.execute_input": "2022-04-08T01:16:19.464076Z",
     "iopub.status.busy": "2022-04-08T01:16:19.463488Z",
     "iopub.status.idle": "2022-04-08T01:16:19.472576Z",
     "shell.execute_reply": "2022-04-08T01:16:19.473108Z",
     "shell.execute_reply.started": "2022-04-08T01:13:13.160709Z"
    },
    "papermill": {
     "duration": 0.057088,
     "end_time": "2022-04-08T01:16:19.473285",
     "exception": false,
     "start_time": "2022-04-08T01:16:19.416197",
     "status": "completed"
    },
    "tags": []
   },
   "outputs": [],
   "source": [
    "Fill_nom(test_nom)"
   ]
  },
  {
   "cell_type": "code",
   "execution_count": 44,
   "id": "0636a91e",
   "metadata": {
    "execution": {
     "iopub.execute_input": "2022-04-08T01:16:19.566290Z",
     "iopub.status.busy": "2022-04-08T01:16:19.565618Z",
     "iopub.status.idle": "2022-04-08T01:16:19.573854Z",
     "shell.execute_reply": "2022-04-08T01:16:19.574347Z",
     "shell.execute_reply.started": "2022-04-08T01:13:13.178617Z"
    },
    "papermill": {
     "duration": 0.056308,
     "end_time": "2022-04-08T01:16:19.574521",
     "exception": false,
     "start_time": "2022-04-08T01:16:19.518213",
     "status": "completed"
    },
    "tags": []
   },
   "outputs": [],
   "source": [
    "for col in find_nan_cols(test_num).index :\n",
    "    if col in list(meds.keys()) :\n",
    "        test_num[col] = test_num[col].replace(np.nan,meds[col])\n",
    "    else:\n",
    "        test_num[col] = test_num[col].replace(np.nan,test_num[col].median())"
   ]
  },
  {
   "cell_type": "code",
   "execution_count": 45,
   "id": "a49c5a50",
   "metadata": {
    "execution": {
     "iopub.execute_input": "2022-04-08T01:16:19.670193Z",
     "iopub.status.busy": "2022-04-08T01:16:19.669561Z",
     "iopub.status.idle": "2022-04-08T01:16:19.695150Z",
     "shell.execute_reply": "2022-04-08T01:16:19.695625Z",
     "shell.execute_reply.started": "2022-04-08T01:13:13.191164Z"
    },
    "papermill": {
     "duration": 0.074544,
     "end_time": "2022-04-08T01:16:19.695816",
     "exception": false,
     "start_time": "2022-04-08T01:16:19.621272",
     "status": "completed"
    },
    "tags": []
   },
   "outputs": [],
   "source": [
    "test_num_arr = np.array(test_num)\n",
    "\n",
    "indices = test_num.index\n",
    "\n",
    "Ordinal_Encoding(test_ord)\n",
    "test_ord_arr = np.array(test_ord)\n",
    "\n",
    "test_nom_arr = one_hot_encoding(test_nom,column_transform)"
   ]
  },
  {
   "cell_type": "code",
   "execution_count": 46,
   "id": "c0401bab",
   "metadata": {
    "execution": {
     "iopub.execute_input": "2022-04-08T01:16:19.789558Z",
     "iopub.status.busy": "2022-04-08T01:16:19.789001Z",
     "iopub.status.idle": "2022-04-08T01:16:19.792683Z",
     "shell.execute_reply": "2022-04-08T01:16:19.793225Z",
     "shell.execute_reply.started": "2022-04-08T01:13:13.231865Z"
    },
    "papermill": {
     "duration": 0.051541,
     "end_time": "2022-04-08T01:16:19.793395",
     "exception": false,
     "start_time": "2022-04-08T01:16:19.741854",
     "status": "completed"
    },
    "tags": []
   },
   "outputs": [],
   "source": [
    "X_Test_ = np.c_[test_num_arr,test_ord_arr,test_nom_arr]"
   ]
  },
  {
   "cell_type": "code",
   "execution_count": 47,
   "id": "3263e775",
   "metadata": {
    "execution": {
     "iopub.execute_input": "2022-04-08T01:16:19.886253Z",
     "iopub.status.busy": "2022-04-08T01:16:19.885675Z",
     "iopub.status.idle": "2022-04-08T01:16:19.896885Z",
     "shell.execute_reply": "2022-04-08T01:16:19.897384Z",
     "shell.execute_reply.started": "2022-04-08T01:13:13.239130Z"
    },
    "papermill": {
     "duration": 0.059273,
     "end_time": "2022-04-08T01:16:19.897584",
     "exception": false,
     "start_time": "2022-04-08T01:16:19.838311",
     "status": "completed"
    },
    "tags": []
   },
   "outputs": [],
   "source": [
    "preds_test = model.predict(X_Test_)"
   ]
  },
  {
   "cell_type": "code",
   "execution_count": 48,
   "id": "af51661c",
   "metadata": {
    "execution": {
     "iopub.execute_input": "2022-04-08T01:16:19.997151Z",
     "iopub.status.busy": "2022-04-08T01:16:19.996470Z",
     "iopub.status.idle": "2022-04-08T01:16:20.004900Z",
     "shell.execute_reply": "2022-04-08T01:16:20.004397Z",
     "shell.execute_reply.started": "2022-04-08T01:13:13.266128Z"
    },
    "papermill": {
     "duration": 0.062276,
     "end_time": "2022-04-08T01:16:20.005048",
     "exception": false,
     "start_time": "2022-04-08T01:16:19.942772",
     "status": "completed"
    },
    "tags": []
   },
   "outputs": [],
   "source": [
    "output = pd.DataFrame({'Id': indices,\n",
    "                       'SalePrice': preds_test})\n",
    "output.to_csv('submission.csv', index=False)"
   ]
  },
  {
   "cell_type": "code",
   "execution_count": null,
   "id": "c695deba",
   "metadata": {
    "papermill": {
     "duration": 0.045343,
     "end_time": "2022-04-08T01:16:20.096688",
     "exception": false,
     "start_time": "2022-04-08T01:16:20.051345",
     "status": "completed"
    },
    "tags": []
   },
   "outputs": [],
   "source": []
  },
  {
   "cell_type": "code",
   "execution_count": null,
   "id": "d4e90c9b",
   "metadata": {
    "papermill": {
     "duration": 0.044921,
     "end_time": "2022-04-08T01:16:20.187980",
     "exception": false,
     "start_time": "2022-04-08T01:16:20.143059",
     "status": "completed"
    },
    "tags": []
   },
   "outputs": [],
   "source": []
  }
 ],
 "metadata": {
  "kernelspec": {
   "display_name": "Python 3",
   "language": "python",
   "name": "python3"
  },
  "language_info": {
   "codemirror_mode": {
    "name": "ipython",
    "version": 3
   },
   "file_extension": ".py",
   "mimetype": "text/x-python",
   "name": "python",
   "nbconvert_exporter": "python",
   "pygments_lexer": "ipython3",
   "version": "3.7.12"
  },
  "papermill": {
   "default_parameters": {},
   "duration": 18.717241,
   "end_time": "2022-04-08T01:16:20.943880",
   "environment_variables": {},
   "exception": null,
   "input_path": "__notebook__.ipynb",
   "output_path": "__notebook__.ipynb",
   "parameters": {},
   "start_time": "2022-04-08T01:16:02.226639",
   "version": "2.3.3"
  }
 },
 "nbformat": 4,
 "nbformat_minor": 5
}
